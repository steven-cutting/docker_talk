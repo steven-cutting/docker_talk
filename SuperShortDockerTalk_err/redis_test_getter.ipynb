{
 "cells": [
  {
   "cell_type": "code",
   "execution_count": 2,
   "metadata": {
    "collapsed": true
   },
   "outputs": [],
   "source": [
    "import redis"
   ]
  },
  {
   "cell_type": "code",
   "execution_count": 3,
   "metadata": {
    "collapsed": true
   },
   "outputs": [],
   "source": [
    "from json import loads"
   ]
  },
  {
   "cell_type": "code",
   "execution_count": 4,
   "metadata": {
    "collapsed": true
   },
   "outputs": [],
   "source": [
    "cache = redis.StrictRedis(host=\"192.168.99.100\", port=6379, db=0)"
   ]
  },
  {
   "cell_type": "code",
   "execution_count": 21,
   "metadata": {
    "collapsed": false
   },
   "outputs": [
    {
     "data": {
      "text/plain": [
       "['numberZ', 'monkeyZ']"
      ]
     },
     "execution_count": 21,
     "metadata": {},
     "output_type": "execute_result"
    }
   ],
   "source": [
    "cache.keys()"
   ]
  },
  {
   "cell_type": "code",
   "execution_count": 17,
   "metadata": {
    "collapsed": false,
    "scrolled": true
   },
   "outputs": [
    {
     "data": {
      "text/plain": [
       "[u'monkey_0',\n",
       " u'monkey_1',\n",
       " u'monkey_2',\n",
       " u'monkey_3',\n",
       " u'monkey_4',\n",
       " u'monkey_5',\n",
       " u'monkey_6',\n",
       " u'monkey_7',\n",
       " u'monkey_8',\n",
       " u'monkey_9',\n",
       " u'monkey_10',\n",
       " u'monkey_11',\n",
       " u'monkey_12',\n",
       " u'monkey_13',\n",
       " u'monkey_14',\n",
       " u'monkey_15',\n",
       " u'monkey_16',\n",
       " u'monkey_17',\n",
       " u'monkey_18',\n",
       " u'monkey_19']"
      ]
     },
     "execution_count": 17,
     "metadata": {},
     "output_type": "execute_result"
    }
   ],
   "source": [
    "loads(cache.get('monkeyZ'))"
   ]
  },
  {
   "cell_type": "code",
   "execution_count": 15,
   "metadata": {
    "collapsed": false,
    "scrolled": false
   },
   "outputs": [
    {
     "name": "stdout",
     "output_type": "stream",
     "text": [
      "numberZ len:\t1000\n",
      "numberZ sum:\t499500\n"
     ]
    }
   ],
   "source": [
    "print(\"numberZ len:\\t{}\".format(len(loads(cache.get('numberZ')))))\n",
    "print(\"numberZ sum:\\t{}\".format(sum(loads(cache.get('numberZ')))))"
   ]
  }
 ],
 "metadata": {
  "kernelspec": {
   "display_name": "Python 2",
   "language": "python",
   "name": "python2"
  },
  "language_info": {
   "codemirror_mode": {
    "name": "ipython",
    "version": 2
   },
   "file_extension": ".py",
   "mimetype": "text/x-python",
   "name": "python",
   "nbconvert_exporter": "python",
   "pygments_lexer": "ipython2",
   "version": "2.7.10"
  }
 },
 "nbformat": 4,
 "nbformat_minor": 0
}
