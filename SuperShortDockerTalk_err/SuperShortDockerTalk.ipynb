{
 "cells": [
  {
   "cell_type": "markdown",
   "metadata": {
    "slideshow": {
     "slide_type": "notes"
    }
   },
   "source": [
    "Intended to be viewed as a slide show using RISE."
   ]
  },
  {
   "cell_type": "code",
   "execution_count": 1,
   "metadata": {
    "collapsed": true,
    "slideshow": {
     "slide_type": "skip"
    }
   },
   "outputs": [],
   "source": [
    "from IPython.display import YouTubeVideo"
   ]
  },
  {
   "cell_type": "code",
   "execution_count": null,
   "metadata": {
    "collapsed": false,
    "slideshow": {
     "slide_type": "skip"
    }
   },
   "outputs": [],
   "source": [
    "!docker rmi sillyex:0\n",
    "!docker rmi sillyex:1\n",
    "!docker rmi sillyex:2"
   ]
  },
  {
   "cell_type": "markdown",
   "metadata": {
    "slideshow": {
     "slide_type": "notes"
    }
   },
   "source": [
    "Intended to be viewed as a slide show using RISE."
   ]
  },
  {
   "cell_type": "markdown",
   "metadata": {
    "slideshow": {
     "slide_type": "skip"
    }
   },
   "source": [
    "----"
   ]
  },
  {
   "cell_type": "markdown",
   "metadata": {
    "slideshow": {
     "slide_type": "slide"
    }
   },
   "source": [
    "<h1 style=\"font-family:Helvetica;color:#007399;\">Docker,</h1>\n",
    "### Just enough to get your feet wet"
   ]
  },
  {
   "cell_type": "code",
   "execution_count": null,
   "metadata": {
    "collapsed": true,
    "slideshow": {
     "slide_type": "subslide"
    }
   },
   "outputs": [],
   "source": []
  },
  {
   "cell_type": "markdown",
   "metadata": {
    "slideshow": {
     "slide_type": "skip"
    }
   },
   "source": [
    "-----"
   ]
  },
  {
   "cell_type": "markdown",
   "metadata": {
    "slideshow": {
     "slide_type": "slide"
    }
   },
   "source": [
    "<h1 style=\"font-family:Helvetica;color:#007399;\">Intro</h1>"
   ]
  },
  {
   "cell_type": "markdown",
   "metadata": {
    "slideshow": {
     "slide_type": "subslide"
    }
   },
   "source": [
    "# Scope:"
   ]
  },
  {
   "cell_type": "markdown",
   "metadata": {
    "slideshow": {
     "slide_type": "fragment"
    }
   },
   "source": [
    "\n",
    "\n",
    "+ A super **brief** and **basic** intro. *- Will skip over most **info**, as it is covered **everywhere** else.*\n",
    "\n",
    "\n",
    "+ A quick look at how to use it to run **postgresql** localy.\n",
    "\n",
    "\n",
    "+ An example of how I like to use it. `[if time]`\n",
    "\n",
    "\n",
    "+ What you can expect if you decided to put your **whole** dev enviroment in a container. `[if time]`\n",
    "\n",
    "\n",
    "\\**Notebook will be made available, I will also include links to info that I skipped.*\n",
    "\n",
    "\n",
    "\n"
   ]
  },
  {
   "cell_type": "markdown",
   "metadata": {
    "slideshow": {
     "slide_type": "subslide"
    }
   },
   "source": [
    "## Basically..."
   ]
  },
  {
   "cell_type": "markdown",
   "metadata": {
    "slideshow": {
     "slide_type": "fragment"
    }
   },
   "source": [
    "I will try to get you up and running with postgres on your local `[Linux]` machine using docker, and, time willing,\n",
    "show some other, hopefully motivational, examples."
   ]
  },
  {
   "cell_type": "markdown",
   "metadata": {
    "slideshow": {
     "slide_type": "fragment"
    }
   },
   "source": [
    "+ Focus will be on Linux, becuase:\n",
    "  - Using it on OSX requries more steps than I have time to cover. It's not hard, just requires a lot more explaining.\n",
    "  - I've never run Docker on Windows. With the realease of Docker-Machine it's probable similar to running it on OSX."
   ]
  },
  {
   "cell_type": "markdown",
   "metadata": {
    "slideshow": {
     "slide_type": "-"
    }
   },
   "source": [
    "\\**Docker-Macine is out of scope.*"
   ]
  },
  {
   "cell_type": "markdown",
   "metadata": {
    "slideshow": {
     "slide_type": "skip"
    }
   },
   "source": [
    "----"
   ]
  },
  {
   "cell_type": "markdown",
   "metadata": {
    "slideshow": {
     "slide_type": "slide"
    }
   },
   "source": [
    "<h1 style=\"font-family:Helvetica;color:#007399;\">Basics</h1>"
   ]
  },
  {
   "cell_type": "markdown",
   "metadata": {
    "slideshow": {
     "slide_type": "subslide"
    }
   },
   "source": [
    "<center><img src=\"http://gifsec.com/wp-content/uploads/GIF/2014/09/Monkey-and-Banana-GIF.gif?gs=a\" style=\"width: 500px; display:inline\"/></center>\n",
    "<p style=\"text-align:center; margin-top:50px; display:inline-block\">Less time dealing with DBA's and OP's.</p>"
   ]
  },
  {
   "cell_type": "markdown",
   "metadata": {
    "slideshow": {
     "slide_type": "subslide"
    }
   },
   "source": [
    "<p style=\"text-align:center\">More time playing with tech.</p>\n",
    "\n",
    "<center><img src=\"http://cdn.list25.com/wp-content/uploads/2012/04/monkey.gif\" style=\"width: 500px;\"/></center>"
   ]
  },
  {
   "cell_type": "markdown",
   "metadata": {
    "slideshow": {
     "slide_type": "subslide"
    }
   },
   "source": [
    "<p style=\"text-align:center\">Also, Docker images are super portable. You can take them and run them anywhere.</p>\n",
    "\n",
    "<center><img src=\"http://ak-hdl.buzzfed.com/static/enhanced/web05/2012/8/8/19/anigif_enhanced-buzz-23480-1344469198-5.gif\" style=\"width: 500px;\"/></center>"
   ]
  },
  {
   "cell_type": "markdown",
   "metadata": {
    "slideshow": {
     "slide_type": "fragment"
    }
   },
   "source": [
    "\\**End of monkey gifs*"
   ]
  },
  {
   "cell_type": "markdown",
   "metadata": {
    "slideshow": {
     "slide_type": "skip"
    }
   },
   "source": [
    "----"
   ]
  },
  {
   "cell_type": "markdown",
   "metadata": {
    "slideshow": {
     "slide_type": "subslide"
    }
   },
   "source": [
    "## Containers Vs Images"
   ]
  },
  {
   "cell_type": "markdown",
   "metadata": {
    "slideshow": {
     "slide_type": "fragment"
    }
   },
   "source": [
    "**An Image is:**\n",
    " - Kinda like a Class"
   ]
  },
  {
   "cell_type": "markdown",
   "metadata": {
    "slideshow": {
     "slide_type": "fragment"
    }
   },
   "source": [
    "**A Container is:**\n",
    " - Kinda like an instance of a Class\n",
    " \n",
    " - Temporary, disposable"
   ]
  },
  {
   "cell_type": "markdown",
   "metadata": {
    "slideshow": {
     "slide_type": "subslide"
    }
   },
   "source": [
    "![](img/docker-filesystems-multilayer.png)"
   ]
  },
  {
   "cell_type": "markdown",
   "metadata": {
    "slideshow": {
     "slide_type": "subslide"
    }
   },
   "source": [
    "## List your Images"
   ]
  },
  {
   "cell_type": "markdown",
   "metadata": {
    "slideshow": {
     "slide_type": "fragment"
    }
   },
   "source": [
    "**All Images:** `docker images`"
   ]
  },
  {
   "cell_type": "code",
   "execution_count": 2,
   "metadata": {
    "collapsed": false,
    "slideshow": {
     "slide_type": "-"
    }
   },
   "outputs": [
    {
     "name": "stdout",
     "output_type": "stream",
     "text": [
      "REPOSITORY          TAG                 IMAGE ID            CREATED             VIRTUAL SIZE\r\n",
      "etlcore             base                865639df6186        34 hours ago        656.4 MB\r\n",
      "textquant           run                 445d392b1524        34 hours ago        5.861 GB\r\n",
      "textquant           base                6ca70e8565c4        34 hours ago        5.837 GB\r\n",
      "etlcore             py2                 54bd9d38f9bd        34 hours ago        938 MB\r\n",
      "ellis_island        run                 69ee44237956        4 days ago          1.535 GB\r\n",
      "ellis_island        base                ec7286be5372        4 days ago          1.138 GB\r\n",
      "postgres_test       latest              278c88bb7ef0        4 weeks ago         361.6 MB\r\n",
      "postgres            latest              a7d662bede59        6 weeks ago         265.3 MB\r\n",
      "ubuntu              15.04               013f3d01d247        7 weeks ago         131.4 MB\r\n",
      "ubuntu              14.04.3             91e54dfb1179        7 weeks ago         188.4 MB\r\n",
      "ubuntu              latest              91e54dfb1179        7 weeks ago         188.4 MB\r\n",
      "ubuntu              14.04               91e54dfb1179        7 weeks ago         188.4 MB\r\n"
     ]
    }
   ],
   "source": [
    "!docker images"
   ]
  },
  {
   "cell_type": "markdown",
   "metadata": {
    "slideshow": {
     "slide_type": "subslide"
    }
   },
   "source": [
    "## List your Containers"
   ]
  },
  {
   "cell_type": "markdown",
   "metadata": {
    "slideshow": {
     "slide_type": "fragment"
    }
   },
   "source": [
    "**All running containers: **\n",
    "`docker ps`"
   ]
  },
  {
   "cell_type": "code",
   "execution_count": 3,
   "metadata": {
    "collapsed": false,
    "scrolled": true,
    "slideshow": {
     "slide_type": "-"
    }
   },
   "outputs": [
    {
     "name": "stdout",
     "output_type": "stream",
     "text": [
      "CONTAINER ID        IMAGE               COMMAND                  CREATED             STATUS              PORTS                    NAMES\r\n",
      "8f2d2fefabdb        postgres_test       \"/usr/lib/postgresql/\"   4 weeks ago         Up 34 hours         0.0.0.0:2345->5432/tcp   pg_test\r\n"
     ]
    }
   ],
   "source": [
    "!docker ps"
   ]
  },
  {
   "cell_type": "markdown",
   "metadata": {
    "slideshow": {
     "slide_type": "fragment"
    }
   },
   "source": [
    "**All containers:** `docker ps -a`"
   ]
  },
  {
   "cell_type": "code",
   "execution_count": 4,
   "metadata": {
    "collapsed": false,
    "slideshow": {
     "slide_type": "-"
    }
   },
   "outputs": [
    {
     "name": "stdout",
     "output_type": "stream",
     "text": [
      "CONTAINER ID        IMAGE               COMMAND                  CREATED             STATUS              PORTS                    NAMES\r\n",
      "8f2d2fefabdb        postgres_test       \"/usr/lib/postgresql/\"   4 weeks ago         Up 34 hours         0.0.0.0:2345->5432/tcp   pg_test\r\n"
     ]
    }
   ],
   "source": [
    "!docker ps -a"
   ]
  },
  {
   "cell_type": "markdown",
   "metadata": {
    "slideshow": {
     "slide_type": "skip"
    }
   },
   "source": [
    "-------"
   ]
  },
  {
   "cell_type": "markdown",
   "metadata": {
    "slideshow": {
     "slide_type": "slide"
    }
   },
   "source": [
    "<h1 style=\"font-family:Helvetica;color:#007399;\">Anantomy of a Docker Build Directory</h1>"
   ]
  },
  {
   "cell_type": "markdown",
   "metadata": {
    "slideshow": {
     "slide_type": "-"
    }
   },
   "source": [
    "```\n",
    "textproc-base\n",
    "  ├── Dockerfile\n",
    "  ├── nlkt-data.tar\n",
    "  ├── requirements.txt\n",
    "  └── stanford-ner-2015-04-20.zip\n",
    "```"
   ]
  },
  {
   "cell_type": "code",
   "execution_count": 5,
   "metadata": {
    "collapsed": false,
    "slideshow": {
     "slide_type": "skip"
    }
   },
   "outputs": [
    {
     "name": "stdout",
     "output_type": "stream",
     "text": [
      "textquant_base\r\n",
      "├── Dockerfile\r\n",
      "├── nlkt_data.tar\r\n",
      "├── requirements.txt\r\n",
      "└── stanford-ner-2015-04-20.zip\r\n",
      "\r\n",
      "0 directories, 4 files\r\n"
     ]
    }
   ],
   "source": [
    "!cd /Users/steven_c/Docker/textquant-docker/ && tree textquant_base"
   ]
  },
  {
   "cell_type": "markdown",
   "metadata": {
    "slideshow": {
     "slide_type": "subslide"
    }
   },
   "source": [
    "### Docker Files"
   ]
  },
  {
   "cell_type": "markdown",
   "metadata": {
    "slideshow": {
     "slide_type": "-"
    }
   },
   "source": [
    "Contain instructions for building an image.\n",
    "\n",
    "Example Commands\n",
    "\n",
    "```bash\n",
    "RUN apt-get -y supertuxkart\n",
    "\n",
    "ENV PATH $PATH:/some/bin/\n",
    "\n",
    "COPY requirements.txt /tmp/\n",
    "\n",
    "RUN pip install -r /tmp/requirements.txt\n",
    "```"
   ]
  },
  {
   "cell_type": "markdown",
   "metadata": {
    "slideshow": {
     "slide_type": "subslide"
    }
   },
   "source": [
    "### Example Dockerfile"
   ]
  },
  {
   "cell_type": "markdown",
   "metadata": {},
   "source": [
    "```bash\n",
    "FROM etlcore:py2\n",
    "MAINTAINER Steven Cutting <steven.e.cutting@linux.com>\n",
    "\n",
    "RUN apt-get update \n",
    "\n",
    "RUN apt-get install -y -qq default-jdk\n",
    "\n",
    "# --\n",
    "# Stanford NER\n",
    "COPY stanford-ner-2015-04-20.zip /usr/local/bin/\n",
    "RUN cd /usr/local/bin/ &&  unzip stanford-ner-2015-04-20.zip\n",
    "\n",
    "ENV STANFORD_MODELS :/usr/local/bin/stanford-ner-2015-04-20\n",
    "ENV CLASSPATH $CLASSPATH:/usr/local/bin/stanford-ner-2015-04-20/stanford-ner.jar\n",
    "ENV STANFORD_MODELS $STANFORD_MODELS:/usr/local/bin/stanford-ner-2015-04-20/classifiers/english.all.3class.distsim.crf.ser.gz\n",
    "ENV STANFORD_MODELS $STANFORD_MODELS:/usr/local/bin/stanford-ner-2015-04-20/classifiers/english.conll.4class.distsim.crf.ser.gz\n",
    "ENV STANFORD_MODELS $STANFORD_MODELS:/usr/local/bin/stanford-ner-2015-04-20/classifiers/english.muc.7class.distsim.crf.ser.gz\n",
    "ENV STANFORD_MODELS $STANFORD_MODELS:/usr/local/bin/stanford-ner-2015-04-20/classifiers/example.serialized.ncc.ncc.ser.gz\n",
    "\n",
    "# --\n",
    "# Python packages\n",
    "COPY requirements.txt /tmp/\n",
    "RUN pip install -r /tmp/requirements.txt\n",
    "\n",
    "# --\n",
    "# data files\n",
    "COPY nltk_data.tar /tmp/\n",
    "RUN tar -xpf /tmp/nltk_data.tar -C /usr/share && chown -R root:users /usr/share/nltk_data/*\n",
    "```"
   ]
  },
  {
   "cell_type": "markdown",
   "metadata": {
    "collapsed": true,
    "slideshow": {
     "slide_type": "slide"
    }
   },
   "source": [
    "<h1 style=\"font-family:Helvetica;color:#007399;\">A Silly Example</h1>"
   ]
  },
  {
   "cell_type": "markdown",
   "metadata": {},
   "source": [
    "That will hopefully give you a more concrete idea of how Docker Images work."
   ]
  },
  {
   "cell_type": "markdown",
   "metadata": {
    "slideshow": {
     "slide_type": "subslide"
    }
   },
   "source": [
    "#### Create a simple Docker Image:\n",
    "\n",
    "-  Builds on top of the Ubuntu 14.04 base image\n",
    "-  Creates an enviroment variable (env) within the image.\n",
    "-  Prints the value of the env to the screen **during** the build processes (not when running)."
   ]
  },
  {
   "cell_type": "code",
   "execution_count": 7,
   "metadata": {
    "collapsed": false
   },
   "outputs": [],
   "source": [
    "!rm -r silly_ex \n",
    "!mkdir silly_ex && mkdir silly_ex/silly_ex_0\n",
    "\n",
    "DOCKERFILE = \"\"\"\n",
    "\n",
    "FROM ubuntu:14.04\n",
    "\n",
    "ENV TESTLIST monkey_one\n",
    "RUN echo $TESTLIST\n",
    "\n",
    "\"\"\"\n",
    "with open('silly_ex/silly_ex_0/Dockerfile', 'w') as fp:\n",
    "    fp.write(DOCKERFILE)"
   ]
  },
  {
   "cell_type": "markdown",
   "metadata": {
    "slideshow": {
     "slide_type": "subslide"
    }
   },
   "source": [
    "Building the **Image** and giving it the **name:** `sillyex` and the **tag:** `0`."
   ]
  },
  {
   "cell_type": "code",
   "execution_count": 8,
   "metadata": {
    "collapsed": false,
    "slideshow": {
     "slide_type": "-"
    }
   },
   "outputs": [
    {
     "name": "stdout",
     "output_type": "stream",
     "text": [
      "Sending build context to Docker daemon 2.048 kB\n",
      "Step 0 : FROM ubuntu:14.04\n",
      " ---> 91e54dfb1179\n",
      "Step 1 : ENV TESTLIST monkey_one\n",
      " ---> Running in 95e37eae452c\n",
      " ---> cb3d6db51d3d\n",
      "Removing intermediate container 95e37eae452c\n",
      "Step 2 : RUN echo $TESTLIST\n",
      " ---> Running in 3d6d924d5792\n",
      "monkey_one\n",
      " ---> fe03643cc6b6\n",
      "Removing intermediate container 3d6d924d5792\n",
      "Successfully built fe03643cc6b6\n"
     ]
    }
   ],
   "source": [
    "!cd silly_ex/silly_ex_0 && docker build --tag=\"sillyex:0\" ."
   ]
  },
  {
   "cell_type": "code",
   "execution_count": 9,
   "metadata": {
    "collapsed": true,
    "slideshow": {
     "slide_type": "subslide"
    }
   },
   "outputs": [],
   "source": [
    "!mkdir silly_ex/silly_ex_1\n",
    "\n",
    "DOCKERFILE = \"\"\"\n",
    "\n",
    "FROM sillyex:0\n",
    "MAINTAINER Steven Cutting <steven.e.cutting@linux.com>\n",
    "\n",
    "ENV TESTLIST $TESTLIST:monkey_two\n",
    "RUN echo $TESTLIST\n",
    "\n",
    "\"\"\"\n",
    "with open('silly_ex/silly_ex_1/Dockerfile', 'w') as fp:\n",
    "    fp.write(DOCKERFILE)"
   ]
  },
  {
   "cell_type": "markdown",
   "metadata": {
    "slideshow": {
     "slide_type": "subslide"
    }
   },
   "source": [
    "Building the **Image** and giving it the **name:** `sillyex` and the **tag:** `1`."
   ]
  },
  {
   "cell_type": "code",
   "execution_count": 10,
   "metadata": {
    "collapsed": false,
    "scrolled": true,
    "slideshow": {
     "slide_type": "-"
    }
   },
   "outputs": [
    {
     "name": "stdout",
     "output_type": "stream",
     "text": [
      "Sending build context to Docker daemon 2.048 kB\n",
      "Step 0 : FROM sillyex:0\n",
      " ---> fe03643cc6b6\n",
      "Step 1 : MAINTAINER Steven Cutting <steven.e.cutting@linux.com>\n",
      " ---> Running in 0f53e713d285\n",
      " ---> 7a5f1f717c7c\n",
      "Removing intermediate container 0f53e713d285\n",
      "Step 2 : ENV TESTLIST $TESTLIST:monkey_two\n",
      " ---> Running in 7f6462a628f6\n",
      " ---> a7a4b598301e\n",
      "Removing intermediate container 7f6462a628f6\n",
      "Step 3 : RUN echo $TESTLIST\n",
      " ---> Running in b12ef4dd8d83\n",
      "monkey_one:monkey_two\n",
      " ---> 700dc2cc7512\n",
      "Removing intermediate container b12ef4dd8d83\n",
      "Successfully built 700dc2cc7512\n"
     ]
    }
   ],
   "source": [
    "!cd silly_ex/silly_ex_1 && docker build --tag=\"sillyex:1\" ."
   ]
  },
  {
   "cell_type": "code",
   "execution_count": 11,
   "metadata": {
    "collapsed": false,
    "slideshow": {
     "slide_type": "subslide"
    }
   },
   "outputs": [],
   "source": [
    "!mkdir silly_ex/silly_ex_2\n",
    "\n",
    "DOCKERFILE = \"\"\"\n",
    "\n",
    "FROM sillyex:1\n",
    "MAINTAINER Steven Cutting <steven.e.cutting@linux.com>\n",
    "\n",
    "ENV TESTLIST $TESTLIST:monkey_three\n",
    "RUN echo $TESTLIST\n",
    "\n",
    "# A little hack... Just go with it.\n",
    "RUN echo \"echo $TESTLIST\" > test.sh && chmod +x test.sh\n",
    "CMD [\"/bin/bash\", \"./test.sh\"]\n",
    "\"\"\"\n",
    "with open('silly_ex/silly_ex_2/Dockerfile', 'w') as fp:\n",
    "    fp.write(DOCKERFILE)"
   ]
  },
  {
   "cell_type": "markdown",
   "metadata": {
    "slideshow": {
     "slide_type": "subslide"
    }
   },
   "source": [
    "Building the **Image** and giving it the **name:** `sillyex` and the **tag:** `2`."
   ]
  },
  {
   "cell_type": "code",
   "execution_count": 12,
   "metadata": {
    "collapsed": false,
    "scrolled": false,
    "slideshow": {
     "slide_type": "-"
    }
   },
   "outputs": [
    {
     "name": "stdout",
     "output_type": "stream",
     "text": [
      "Sending build context to Docker daemon 2.048 kB\n",
      "Step 0 : FROM sillyex:1\n",
      " ---> 700dc2cc7512\n",
      "Step 1 : MAINTAINER Steven Cutting <steven.e.cutting@linux.com>\n",
      " ---> Running in d1a2f5b533d3\n",
      " ---> f531e989aacd\n",
      "Removing intermediate container d1a2f5b533d3\n",
      "Step 2 : ENV TESTLIST $TESTLIST:monkey_three\n",
      " ---> Running in 7534ea5434e9\n",
      " ---> 2e674a6eaef1\n",
      "Removing intermediate container 7534ea5434e9\n",
      "Step 3 : RUN echo $TESTLIST\n",
      " ---> Running in 8a94c742f32e\n",
      "monkey_one:monkey_two:monkey_three\n",
      " ---> 60be3c421e05\n",
      "Removing intermediate container 8a94c742f32e\n",
      "Step 4 : RUN echo \"echo $TESTLIST\" > test.sh && chmod +x test.sh\n",
      " ---> Running in bc9465d88eb6\n",
      " ---> a0552967870a\n",
      "Removing intermediate container bc9465d88eb6\n",
      "Step 5 : CMD /bin/bash ./test.sh\n",
      " ---> Running in a1ad4c37768d\n",
      " ---> 35bfc13160d9\n",
      "Removing intermediate container a1ad4c37768d\n",
      "Successfully built 35bfc13160d9\n"
     ]
    }
   ],
   "source": [
    "!cd silly_ex/silly_ex_2 && docker build --tag=\"sillyex:2\" ."
   ]
  },
  {
   "cell_type": "markdown",
   "metadata": {
    "slideshow": {
     "slide_type": "subslide"
    }
   },
   "source": [
    "### Lets try runnig the image"
   ]
  },
  {
   "cell_type": "code",
   "execution_count": 13,
   "metadata": {
    "collapsed": false,
    "slideshow": {
     "slide_type": "subslide"
    }
   },
   "outputs": [
    {
     "name": "stdout",
     "output_type": "stream",
     "text": [
      "monkey_one:monkey_two:monkey_three\r\n"
     ]
    }
   ],
   "source": [
    "!docker run sillyex:2"
   ]
  },
  {
   "cell_type": "markdown",
   "metadata": {
    "slideshow": {
     "slide_type": "subslide"
    }
   },
   "source": [
    "### If I look at the Images and all Containers:"
   ]
  },
  {
   "cell_type": "code",
   "execution_count": 14,
   "metadata": {
    "collapsed": false,
    "slideshow": {
     "slide_type": "subslide"
    }
   },
   "outputs": [
    {
     "name": "stdout",
     "output_type": "stream",
     "text": [
      "CONTAINER ID        IMAGE               COMMAND                  CREATED                  STATUS                              PORTS                    NAMES\r\n",
      "377efc248cdf        sillyex:2           \"/bin/bash ./test.sh\"    Less than a second ago   Exited (0) Less than a second ago                            suspicious_davinci\r\n",
      "8f2d2fefabdb        postgres_test       \"/usr/lib/postgresql/\"   4 weeks ago              Up 34 hours                         0.0.0.0:2345->5432/tcp   pg_test\r\n"
     ]
    }
   ],
   "source": [
    "!docker ps -a"
   ]
  },
  {
   "cell_type": "code",
   "execution_count": 15,
   "metadata": {
    "collapsed": false,
    "slideshow": {
     "slide_type": "subslide"
    }
   },
   "outputs": [
    {
     "name": "stdout",
     "output_type": "stream",
     "text": [
      "REPOSITORY          TAG                 IMAGE ID            CREATED             VIRTUAL SIZE\r\n",
      "sillyex             2                   35bfc13160d9        1 seconds ago       188.4 MB\r\n",
      "sillyex             1                   700dc2cc7512        3 seconds ago       188.4 MB\r\n",
      "sillyex             0                   fe03643cc6b6        3 seconds ago       188.4 MB\r\n",
      "etlcore             base                865639df6186        34 hours ago        656.4 MB\r\n",
      "textquant           run                 445d392b1524        34 hours ago        5.861 GB\r\n",
      "textquant           base                6ca70e8565c4        34 hours ago        5.837 GB\r\n",
      "etlcore             py2                 54bd9d38f9bd        34 hours ago        938 MB\r\n",
      "ellis_island        run                 69ee44237956        4 days ago          1.535 GB\r\n",
      "ellis_island        base                ec7286be5372        4 days ago          1.138 GB\r\n",
      "postgres_test       latest              278c88bb7ef0        4 weeks ago         361.6 MB\r\n",
      "postgres            latest              a7d662bede59        6 weeks ago         265.3 MB\r\n",
      "ubuntu              15.04               013f3d01d247        7 weeks ago         131.4 MB\r\n",
      "ubuntu              14.04               91e54dfb1179        7 weeks ago         188.4 MB\r\n",
      "ubuntu              14.04.3             91e54dfb1179        7 weeks ago         188.4 MB\r\n",
      "ubuntu              latest              91e54dfb1179        7 weeks ago         188.4 MB\r\n"
     ]
    }
   ],
   "source": [
    "!docker images"
   ]
  },
  {
   "cell_type": "markdown",
   "metadata": {
    "slideshow": {
     "slide_type": "subslide"
    }
   },
   "source": [
    "```\n",
    "sillyex:0\n",
    "└── sillyex:1\n",
    "    └── sillyex:2\n",
    "```"
   ]
  },
  {
   "cell_type": "markdown",
   "metadata": {
    "slideshow": {
     "slide_type": "fragment"
    }
   },
   "source": [
    "<img  style=\"width:300px; float:left;\" src=\"https://image.freepik.com/free-photo/cut-onion-vector_2935315.jpg\" />"
   ]
  },
  {
   "cell_type": "markdown",
   "metadata": {
    "slideshow": {
     "slide_type": "notes"
    }
   },
   "source": [
    "-----"
   ]
  },
  {
   "cell_type": "markdown",
   "metadata": {
    "slideshow": {
     "slide_type": "slide"
    }
   },
   "source": [
    "<h1 style=\"font-family:Helvetica;color:#007399;\">How do you actually \"Use\" this, Docker?</h1>"
   ]
  },
  {
   "cell_type": "markdown",
   "metadata": {
    "slideshow": {
     "slide_type": "skip"
    }
   },
   "source": [
    "-----"
   ]
  },
  {
   "cell_type": "markdown",
   "metadata": {
    "slideshow": {
     "slide_type": "subslide"
    }
   },
   "source": [
    "**<p style=\"font-size:1.8em\">Docker is like a Meeseeks Box and Containers are like Meeseeks.</p>**"
   ]
  },
  {
   "cell_type": "markdown",
   "metadata": {
    "slideshow": {
     "slide_type": "fragment"
    }
   },
   "source": [
    "<p style=\"font-size: 1.3em\">\"How?\" you might ask.</p>\n",
    "<p>Or really, \"Whuuuuuuuu the heck is a Meeseeks?\"</p>"
   ]
  },
  {
   "cell_type": "markdown",
   "metadata": {
    "slideshow": {
     "slide_type": "skip"
    }
   },
   "source": [
    "-----"
   ]
  },
  {
   "cell_type": "markdown",
   "metadata": {
    "slideshow": {
     "slide_type": "subslide"
    }
   },
   "source": [
    "<p style=\"font-size:1.4em\">I'm glad you asked!</p>\n",
    "**<p style=\"font-size:1.8em\">This short clip should hopefully explain.</p>**\n",
    "<p style=\"font-size:1em\">(Yes a clip, just humor me.)</p>"
   ]
  },
  {
   "cell_type": "code",
   "execution_count": 3,
   "metadata": {
    "collapsed": false,
    "slideshow": {
     "slide_type": "fragment"
    }
   },
   "outputs": [
    {
     "data": {
      "text/html": [
       "\n",
       "        <iframe\n",
       "            width=\"400\"\n",
       "            height=\"300\"\n",
       "            src=\"https://www.youtube.com/embed/qUYvIAP3qQk\"\n",
       "            frameborder=\"0\"\n",
       "            allowfullscreen\n",
       "        ></iframe>\n",
       "        "
      ],
      "text/plain": [
       "<IPython.lib.display.YouTubeVideo at 0x1076bb750>"
      ]
     },
     "execution_count": 3,
     "metadata": {},
     "output_type": "execute_result"
    }
   ],
   "source": [
    "YouTubeVideo(\"qUYvIAP3qQk\")"
   ]
  },
  {
   "cell_type": "markdown",
   "metadata": {
    "slideshow": {
     "slide_type": "subslide"
    }
   },
   "source": [
    "Because of this it you can start to think differnetly about the way to use/distribute applications and infrastructure."
   ]
  },
  {
   "cell_type": "code",
   "execution_count": null,
   "metadata": {
    "collapsed": true
   },
   "outputs": [],
   "source": []
  },
  {
   "cell_type": "code",
   "execution_count": null,
   "metadata": {
    "collapsed": true
   },
   "outputs": [],
   "source": []
  },
  {
   "cell_type": "code",
   "execution_count": null,
   "metadata": {
    "collapsed": true
   },
   "outputs": [],
   "source": []
  },
  {
   "cell_type": "markdown",
   "metadata": {
    "slideshow": {
     "slide_type": "slide"
    }
   },
   "source": [
    "Because Docker is so lightweight you can use it to really seperate your dev enviroment by containerizing the heck out of eveything. You can even Docker your Docker..."
   ]
  },
  {
   "cell_type": "markdown",
   "metadata": {
    "slideshow": {
     "slide_type": "subslide"
    }
   },
   "source": [
    "### Docker can start to seem like Inception."
   ]
  },
  {
   "cell_type": "markdown",
   "metadata": {
    "slideshow": {
     "slide_type": "-"
    }
   },
   "source": [
    "<center><img src=\"http://myownspot.org/wordpress/julie/wp-content/uploads/2014/01/Inception-Turning-the-City-2.gif\" style=\"width: 1000px;\" /></center>"
   ]
  },
  {
   "cell_type": "markdown",
   "metadata": {},
   "source": [
    "<p style=\"font-size: 0.7em;\"><strong>*Disclaimer:</strong> I haven't actually seen Inception, I just want to sound smart.</p>\n",
    "\n",
    "<p style=\"font-size: 0.7em;\">And, this is a pretty neat gif.</p>"
   ]
  },
  {
   "cell_type": "markdown",
   "metadata": {
    "slideshow": {
     "slide_type": "subslide"
    }
   },
   "source": [
    "# Ex:\n",
    "\n",
    "I'm running all of this inside a docker container. \n",
    "\n",
    "I'm running docker inside docker.\n",
    "\n",
    "Inception!"
   ]
  },
  {
   "cell_type": "markdown",
   "metadata": {},
   "source": [
    "<img src=\"https://media.giphy.com/media/6y17pgEsBdN7y/giphy.gif\" />"
   ]
  }
 ],
 "metadata": {
  "celltoolbar": "Slideshow",
  "kernelspec": {
   "display_name": "Python 2",
   "language": "python",
   "name": "python2"
  },
  "language_info": {
   "codemirror_mode": {
    "name": "ipython",
    "version": 2
   },
   "file_extension": ".py",
   "mimetype": "text/x-python",
   "name": "python",
   "nbconvert_exporter": "python",
   "pygments_lexer": "ipython2",
   "version": "2.7.10"
  }
 },
 "nbformat": 4,
 "nbformat_minor": 0
}
